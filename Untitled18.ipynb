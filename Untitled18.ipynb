{
  "nbformat": 4,
  "nbformat_minor": 0,
  "metadata": {
    "colab": {
      "provenance": [],
      "authorship_tag": "ABX9TyMCNp05iDyBpmBVOoYyDnxa",
      "include_colab_link": true
    },
    "kernelspec": {
      "name": "python3",
      "display_name": "Python 3"
    },
    "language_info": {
      "name": "python"
    }
  },
  "cells": [
    {
      "cell_type": "markdown",
      "metadata": {
        "id": "view-in-github",
        "colab_type": "text"
      },
      "source": [
        "<a href=\"https://colab.research.google.com/github/farshidehkordi/Graph_calcul/blob/main/Untitled18.ipynb\" target=\"_parent\"><img src=\"https://colab.research.google.com/assets/colab-badge.svg\" alt=\"Open In Colab\"/></a>"
      ]
    },
    {
      "cell_type": "code",
      "execution_count": 1,
      "metadata": {
        "colab": {
          "base_uri": "https://localhost:8080/"
        },
        "id": "4zHzvgypNRvc",
        "outputId": "cdfee293-fe9a-4f7b-9bc2-7335be28aada"
      },
      "outputs": [
        {
          "output_type": "stream",
          "name": "stdout",
          "text": [
            "Cloning into 'Graph_calcul'...\n",
            "remote: Enumerating objects: 74, done.\u001b[K\n",
            "remote: Counting objects: 100% (74/74), done.\u001b[K\n",
            "remote: Compressing objects: 100% (74/74), done.\u001b[K\n",
            "remote: Total 74 (delta 43), reused 0 (delta 0), pack-reused 0\u001b[K\n",
            "Receiving objects: 100% (74/74), 30.60 KiB | 3.06 MiB/s, done.\n",
            "Resolving deltas: 100% (43/43), done.\n"
          ]
        }
      ],
      "source": [
        "\n",
        "!git clone https://github.com/farshidehkordi/Graph_calcul.git"
      ]
    },
    {
      "cell_type": "code",
      "source": [
        "\n",
        "!pip install git+https://github.com/farshidehkordi/Graph_calcul.git"
      ],
      "metadata": {
        "colab": {
          "base_uri": "https://localhost:8080/"
        },
        "id": "ZYkKMFL_NlST",
        "outputId": "c50320a6-c86f-42bb-da90-1c76bf7c9d06"
      },
      "execution_count": 2,
      "outputs": [
        {
          "output_type": "stream",
          "name": "stdout",
          "text": [
            "Collecting git+https://github.com/farshidehkordi/Graph_calcul.git\n",
            "  Cloning https://github.com/farshidehkordi/Graph_calcul.git to /tmp/pip-req-build-meu3ylwl\n",
            "  Running command git clone --filter=blob:none --quiet https://github.com/farshidehkordi/Graph_calcul.git /tmp/pip-req-build-meu3ylwl\n",
            "  Resolved https://github.com/farshidehkordi/Graph_calcul.git to commit ab331df0c15396adb50ca279dd86f02f92177184\n",
            "\u001b[31mERROR: git+https://github.com/farshidehkordi/Graph_calcul.git does not appear to be a Python project: neither 'setup.py' nor 'pyproject.toml' found.\u001b[0m\u001b[31m\n",
            "\u001b[0m"
          ]
        }
      ]
    },
    {
      "cell_type": "code",
      "source": [
        "\n",
        "!sudo apt-get install python3-dev graphviz libgraphviz-dev pkg-config"
      ],
      "metadata": {
        "colab": {
          "base_uri": "https://localhost:8080/"
        },
        "id": "hBKLX6-2Nq9X",
        "outputId": "f32f1dc9-7e0d-4635-c4e7-60a053d1e4f7"
      },
      "execution_count": 3,
      "outputs": [
        {
          "output_type": "stream",
          "name": "stdout",
          "text": [
            "Reading package lists... Done\n",
            "Building dependency tree... Done\n",
            "Reading state information... Done\n",
            "pkg-config is already the newest version (0.29.2-1ubuntu3).\n",
            "graphviz is already the newest version (2.42.2-6).\n",
            "python3-dev is already the newest version (3.10.6-1~22.04).\n",
            "python3-dev set to manually installed.\n",
            "The following additional packages will be installed:\n",
            "  libgail-common libgail18 libgtk2.0-0 libgtk2.0-bin libgtk2.0-common\n",
            "  libgvc6-plugins-gtk librsvg2-common libxdot4\n",
            "Suggested packages:\n",
            "  gvfs\n",
            "The following NEW packages will be installed:\n",
            "  libgail-common libgail18 libgraphviz-dev libgtk2.0-0 libgtk2.0-bin\n",
            "  libgtk2.0-common libgvc6-plugins-gtk librsvg2-common libxdot4\n",
            "0 upgraded, 9 newly installed, 0 to remove and 33 not upgraded.\n",
            "Need to get 2,433 kB of archives.\n",
            "After this operation, 7,694 kB of additional disk space will be used.\n",
            "Get:1 http://archive.ubuntu.com/ubuntu jammy/main amd64 libgtk2.0-common all 2.24.33-2ubuntu2 [125 kB]\n",
            "Get:2 http://archive.ubuntu.com/ubuntu jammy/main amd64 libgtk2.0-0 amd64 2.24.33-2ubuntu2 [2,037 kB]\n",
            "Get:3 http://archive.ubuntu.com/ubuntu jammy/main amd64 libgail18 amd64 2.24.33-2ubuntu2 [15.9 kB]\n",
            "Get:4 http://archive.ubuntu.com/ubuntu jammy/main amd64 libgail-common amd64 2.24.33-2ubuntu2 [132 kB]\n",
            "Get:5 http://archive.ubuntu.com/ubuntu jammy/universe amd64 libxdot4 amd64 2.42.2-6 [16.4 kB]\n",
            "Get:6 http://archive.ubuntu.com/ubuntu jammy/universe amd64 libgvc6-plugins-gtk amd64 2.42.2-6 [22.6 kB]\n",
            "Get:7 http://archive.ubuntu.com/ubuntu jammy/universe amd64 libgraphviz-dev amd64 2.42.2-6 [58.5 kB]\n",
            "Get:8 http://archive.ubuntu.com/ubuntu jammy/main amd64 libgtk2.0-bin amd64 2.24.33-2ubuntu2 [7,932 B]\n",
            "Get:9 http://archive.ubuntu.com/ubuntu jammy-updates/main amd64 librsvg2-common amd64 2.52.5+dfsg-3ubuntu0.2 [17.7 kB]\n",
            "Fetched 2,433 kB in 1s (2,736 kB/s)\n",
            "debconf: unable to initialize frontend: Dialog\n",
            "debconf: (No usable dialog-like program is installed, so the dialog based frontend cannot be used. at /usr/share/perl5/Debconf/FrontEnd/Dialog.pm line 78, <> line 9.)\n",
            "debconf: falling back to frontend: Readline\n",
            "debconf: unable to initialize frontend: Readline\n",
            "debconf: (This frontend requires a controlling tty.)\n",
            "debconf: falling back to frontend: Teletype\n",
            "dpkg-preconfigure: unable to re-open stdin: \n",
            "Selecting previously unselected package libgtk2.0-common.\n",
            "(Reading database ... 121749 files and directories currently installed.)\n",
            "Preparing to unpack .../0-libgtk2.0-common_2.24.33-2ubuntu2_all.deb ...\n",
            "Unpacking libgtk2.0-common (2.24.33-2ubuntu2) ...\n",
            "Selecting previously unselected package libgtk2.0-0:amd64.\n",
            "Preparing to unpack .../1-libgtk2.0-0_2.24.33-2ubuntu2_amd64.deb ...\n",
            "Unpacking libgtk2.0-0:amd64 (2.24.33-2ubuntu2) ...\n",
            "Selecting previously unselected package libgail18:amd64.\n",
            "Preparing to unpack .../2-libgail18_2.24.33-2ubuntu2_amd64.deb ...\n",
            "Unpacking libgail18:amd64 (2.24.33-2ubuntu2) ...\n",
            "Selecting previously unselected package libgail-common:amd64.\n",
            "Preparing to unpack .../3-libgail-common_2.24.33-2ubuntu2_amd64.deb ...\n",
            "Unpacking libgail-common:amd64 (2.24.33-2ubuntu2) ...\n",
            "Selecting previously unselected package libxdot4:amd64.\n",
            "Preparing to unpack .../4-libxdot4_2.42.2-6_amd64.deb ...\n",
            "Unpacking libxdot4:amd64 (2.42.2-6) ...\n",
            "Selecting previously unselected package libgvc6-plugins-gtk.\n",
            "Preparing to unpack .../5-libgvc6-plugins-gtk_2.42.2-6_amd64.deb ...\n",
            "Unpacking libgvc6-plugins-gtk (2.42.2-6) ...\n",
            "Selecting previously unselected package libgraphviz-dev:amd64.\n",
            "Preparing to unpack .../6-libgraphviz-dev_2.42.2-6_amd64.deb ...\n",
            "Unpacking libgraphviz-dev:amd64 (2.42.2-6) ...\n",
            "Selecting previously unselected package libgtk2.0-bin.\n",
            "Preparing to unpack .../7-libgtk2.0-bin_2.24.33-2ubuntu2_amd64.deb ...\n",
            "Unpacking libgtk2.0-bin (2.24.33-2ubuntu2) ...\n",
            "Selecting previously unselected package librsvg2-common:amd64.\n",
            "Preparing to unpack .../8-librsvg2-common_2.52.5+dfsg-3ubuntu0.2_amd64.deb ...\n",
            "Unpacking librsvg2-common:amd64 (2.52.5+dfsg-3ubuntu0.2) ...\n",
            "Setting up libxdot4:amd64 (2.42.2-6) ...\n",
            "Setting up librsvg2-common:amd64 (2.52.5+dfsg-3ubuntu0.2) ...\n",
            "Setting up libgtk2.0-common (2.24.33-2ubuntu2) ...\n",
            "Setting up libgtk2.0-0:amd64 (2.24.33-2ubuntu2) ...\n",
            "Setting up libgvc6-plugins-gtk (2.42.2-6) ...\n",
            "Setting up libgail18:amd64 (2.24.33-2ubuntu2) ...\n",
            "Setting up libgtk2.0-bin (2.24.33-2ubuntu2) ...\n",
            "Setting up libgail-common:amd64 (2.24.33-2ubuntu2) ...\n",
            "Setting up libgraphviz-dev:amd64 (2.42.2-6) ...\n",
            "Processing triggers for libc-bin (2.35-0ubuntu3.4) ...\n",
            "/sbin/ldconfig.real: /usr/local/lib/libtbbmalloc.so.2 is not a symbolic link\n",
            "\n",
            "/sbin/ldconfig.real: /usr/local/lib/libtbbmalloc_proxy.so.2 is not a symbolic link\n",
            "\n",
            "/sbin/ldconfig.real: /usr/local/lib/libtbb.so.12 is not a symbolic link\n",
            "\n",
            "/sbin/ldconfig.real: /usr/local/lib/libtbbbind.so.3 is not a symbolic link\n",
            "\n",
            "/sbin/ldconfig.real: /usr/local/lib/libtbbbind_2_0.so.3 is not a symbolic link\n",
            "\n",
            "/sbin/ldconfig.real: /usr/local/lib/libtbbbind_2_5.so.3 is not a symbolic link\n",
            "\n",
            "Processing triggers for man-db (2.10.2-1) ...\n",
            "Processing triggers for libgdk-pixbuf-2.0-0:amd64 (2.42.8+dfsg-1ubuntu0.2) ...\n"
          ]
        }
      ]
    },
    {
      "cell_type": "code",
      "source": [
        "%ls\n"
      ],
      "metadata": {
        "colab": {
          "base_uri": "https://localhost:8080/"
        },
        "id": "IaAlIuhjN2qk",
        "outputId": "2a85a23d-cc4d-4e4a-d3e2-d95701d1cc57"
      },
      "execution_count": 5,
      "outputs": [
        {
          "output_type": "stream",
          "name": "stdout",
          "text": [
            "\u001b[0m\u001b[01;34mGraph_calcul\u001b[0m/  \u001b[01;34msample_data\u001b[0m/\n"
          ]
        }
      ]
    },
    {
      "cell_type": "code",
      "source": [
        "%cd Graph_calcul/"
      ],
      "metadata": {
        "colab": {
          "base_uri": "https://localhost:8080/"
        },
        "id": "UmrWnP86N5Ww",
        "outputId": "b7e021b2-05a6-4bba-d76e-a1ede1508f0c"
      },
      "execution_count": 6,
      "outputs": [
        {
          "output_type": "stream",
          "name": "stdout",
          "text": [
            "/content/Graph_calcul\n"
          ]
        }
      ]
    },
    {
      "cell_type": "code",
      "source": [
        "!pip install -r requirements.txt"
      ],
      "metadata": {
        "colab": {
          "base_uri": "https://localhost:8080/"
        },
        "id": "eGGdo_oNNv5i",
        "outputId": "3cfaa656-1aed-40d9-a4a4-4c66314b3000"
      },
      "execution_count": 7,
      "outputs": [
        {
          "output_type": "stream",
          "name": "stdout",
          "text": [
            "Requirement already satisfied: numpy in /usr/local/lib/python3.10/dist-packages (from -r requirements.txt (line 1)) (1.25.2)\n",
            "Requirement already satisfied: torch in /usr/local/lib/python3.10/dist-packages (from -r requirements.txt (line 2)) (2.1.0+cu121)\n",
            "Requirement already satisfied: torchvision in /usr/local/lib/python3.10/dist-packages (from -r requirements.txt (line 3)) (0.16.0+cu121)\n",
            "Requirement already satisfied: matplotlib in /usr/local/lib/python3.10/dist-packages (from -r requirements.txt (line 4)) (3.7.1)\n",
            "Requirement already satisfied: networkx in /usr/local/lib/python3.10/dist-packages (from -r requirements.txt (line 5)) (3.2.1)\n",
            "Collecting pygraphviz (from -r requirements.txt (line 6))\n",
            "  Downloading pygraphviz-1.12.tar.gz (104 kB)\n",
            "\u001b[2K     \u001b[90m━━━━━━━━━━━━━━━━━━━━━━━━━━━━━━━━━━━━━━━━\u001b[0m \u001b[32m104.9/104.9 kB\u001b[0m \u001b[31m3.0 MB/s\u001b[0m eta \u001b[36m0:00:00\u001b[0m\n",
            "\u001b[?25h  Installing build dependencies ... \u001b[?25l\u001b[?25hdone\n",
            "  Getting requirements to build wheel ... \u001b[?25l\u001b[?25hdone\n",
            "  Installing backend dependencies ... \u001b[?25l\u001b[?25hdone\n",
            "  Preparing metadata (pyproject.toml) ... \u001b[?25l\u001b[?25hdone\n",
            "Requirement already satisfied: tqdm in /usr/local/lib/python3.10/dist-packages (from -r requirements.txt (line 7)) (4.66.2)\n",
            "Requirement already satisfied: filelock in /usr/local/lib/python3.10/dist-packages (from torch->-r requirements.txt (line 2)) (3.13.1)\n",
            "Requirement already satisfied: typing-extensions in /usr/local/lib/python3.10/dist-packages (from torch->-r requirements.txt (line 2)) (4.9.0)\n",
            "Requirement already satisfied: sympy in /usr/local/lib/python3.10/dist-packages (from torch->-r requirements.txt (line 2)) (1.12)\n",
            "Requirement already satisfied: jinja2 in /usr/local/lib/python3.10/dist-packages (from torch->-r requirements.txt (line 2)) (3.1.3)\n",
            "Requirement already satisfied: fsspec in /usr/local/lib/python3.10/dist-packages (from torch->-r requirements.txt (line 2)) (2023.6.0)\n",
            "Requirement already satisfied: triton==2.1.0 in /usr/local/lib/python3.10/dist-packages (from torch->-r requirements.txt (line 2)) (2.1.0)\n",
            "Requirement already satisfied: requests in /usr/local/lib/python3.10/dist-packages (from torchvision->-r requirements.txt (line 3)) (2.31.0)\n",
            "Requirement already satisfied: pillow!=8.3.*,>=5.3.0 in /usr/local/lib/python3.10/dist-packages (from torchvision->-r requirements.txt (line 3)) (9.4.0)\n",
            "Requirement already satisfied: contourpy>=1.0.1 in /usr/local/lib/python3.10/dist-packages (from matplotlib->-r requirements.txt (line 4)) (1.2.0)\n",
            "Requirement already satisfied: cycler>=0.10 in /usr/local/lib/python3.10/dist-packages (from matplotlib->-r requirements.txt (line 4)) (0.12.1)\n",
            "Requirement already satisfied: fonttools>=4.22.0 in /usr/local/lib/python3.10/dist-packages (from matplotlib->-r requirements.txt (line 4)) (4.48.1)\n",
            "Requirement already satisfied: kiwisolver>=1.0.1 in /usr/local/lib/python3.10/dist-packages (from matplotlib->-r requirements.txt (line 4)) (1.4.5)\n",
            "Requirement already satisfied: packaging>=20.0 in /usr/local/lib/python3.10/dist-packages (from matplotlib->-r requirements.txt (line 4)) (23.2)\n",
            "Requirement already satisfied: pyparsing>=2.3.1 in /usr/local/lib/python3.10/dist-packages (from matplotlib->-r requirements.txt (line 4)) (3.1.1)\n",
            "Requirement already satisfied: python-dateutil>=2.7 in /usr/local/lib/python3.10/dist-packages (from matplotlib->-r requirements.txt (line 4)) (2.8.2)\n",
            "Requirement already satisfied: six>=1.5 in /usr/local/lib/python3.10/dist-packages (from python-dateutil>=2.7->matplotlib->-r requirements.txt (line 4)) (1.16.0)\n",
            "Requirement already satisfied: MarkupSafe>=2.0 in /usr/local/lib/python3.10/dist-packages (from jinja2->torch->-r requirements.txt (line 2)) (2.1.5)\n",
            "Requirement already satisfied: charset-normalizer<4,>=2 in /usr/local/lib/python3.10/dist-packages (from requests->torchvision->-r requirements.txt (line 3)) (3.3.2)\n",
            "Requirement already satisfied: idna<4,>=2.5 in /usr/local/lib/python3.10/dist-packages (from requests->torchvision->-r requirements.txt (line 3)) (3.6)\n",
            "Requirement already satisfied: urllib3<3,>=1.21.1 in /usr/local/lib/python3.10/dist-packages (from requests->torchvision->-r requirements.txt (line 3)) (2.0.7)\n",
            "Requirement already satisfied: certifi>=2017.4.17 in /usr/local/lib/python3.10/dist-packages (from requests->torchvision->-r requirements.txt (line 3)) (2024.2.2)\n",
            "Requirement already satisfied: mpmath>=0.19 in /usr/local/lib/python3.10/dist-packages (from sympy->torch->-r requirements.txt (line 2)) (1.3.0)\n",
            "Building wheels for collected packages: pygraphviz\n",
            "  Building wheel for pygraphviz (pyproject.toml) ... \u001b[?25l\u001b[?25hdone\n",
            "  Created wheel for pygraphviz: filename=pygraphviz-1.12-cp310-cp310-linux_x86_64.whl size=168132 sha256=18d5409f7d0755fada847aec7198c23e931f8d93774e544bc17a67eb43b0798a\n",
            "  Stored in directory: /root/.cache/pip/wheels/1d/ee/b5/a2f54f9e9b3951599c05dcce270ca85e472f8e6cec470e397a\n",
            "Successfully built pygraphviz\n",
            "Installing collected packages: pygraphviz\n",
            "Successfully installed pygraphviz-1.12\n"
          ]
        }
      ]
    },
    {
      "cell_type": "code",
      "source": [
        "import numpy as np\n",
        "\n",
        "from operations import *\n",
        "\n",
        "class Variable:\n",
        "    def __init__(self, data):\n",
        "        self.data = data\n",
        "        self.grad = 0\n",
        "\n",
        "def test_operations():\n",
        "    # Create instances of Variable\n",
        "    a = Variable(np.array([[2, 3], [4, 5]]))\n",
        "    b = Variable(np.array([[1, 1], [2, 2]]))\n",
        "\n",
        "    # Test addition\n",
        "    c = Variable(add_forward(a, b))\n",
        "    add_backward(a, b, 1)\n",
        "    print(\"Addition:\")\n",
        "    print(\"Forward pass result:\", c.data)\n",
        "    print(\"Backward pass gradient (a):\", a.grad)\n",
        "    print(\"Backward pass gradient (b):\", b.grad)\n",
        "\n",
        "    # Test subtraction\n",
        "    d = Variable(sub_forward(a, b))\n",
        "    sub_backward(a, b, 1)\n",
        "    print(\"\\nSubtraction:\")\n",
        "    print(\"Forward pass result:\", d.data)\n",
        "    print(\"Backward pass gradient (a):\", a.grad)\n",
        "    print(\"Backward pass gradient (b):\", b.grad)\n",
        "\n",
        "    # Test multiplication\n",
        "    e = Variable(mul_forward(a, b))\n",
        "    mul_backward(a, b, 1)\n",
        "    print(\"\\nMultiplication:\")\n",
        "    print(\"Forward pass result:\", e.data)\n",
        "    print(\"Backward pass gradient (a):\", a.grad)\n",
        "    print(\"Backward pass gradient (b):\", b.grad)\n",
        "\n",
        "    # Test matrix multiplication\n",
        "    g = Variable(matmul_forward(a, b))\n",
        "    matmul_backward(a, b, np.ones_like(g.data))\n",
        "    print(\"\\nMatrix Multiplication:\")\n",
        "    print(\"Forward pass result:\", g.data)\n",
        "    print(\"Backward pass gradient (a):\", a.grad)\n",
        "    print(\"Backward pass gradient (b):\", b.grad)\n",
        "\n",
        "    # Test ReLU\n",
        "    h = Variable(relu_forward(a))\n",
        "    relu_backward(a, 1)\n",
        "    print(\"\\nReLU:\")\n",
        "    print(\"Forward pass result:\", h.data)\n",
        "    print(\"Backward pass gradient (a):\", a.grad)\n",
        "\n",
        "    # Test Sigmoid\n",
        "    i = Variable(sigmoid_forward(a))\n",
        "    sigmoid_backward(a, 1)\n",
        "    print(\"\\nSigmoid:\")\n",
        "    print(\"Forward pass result:\", i.data)\n",
        "    print(\"Backward pass gradient (a):\", a.grad)\n",
        "\n",
        "    # Test Log\n",
        "    j = Variable(log_forward(a))\n",
        "    log_backward(a, 1)\n",
        "    print(\"\\nLog:\")\n",
        "    print(\"Forward pass result:\", j.data)\n",
        "    print(\"Backward pass gradient (a):\", a.grad)\n",
        "\n",
        "    # Test NLL\n",
        "    scores = Variable(np.array([[0.1, 0.9], [0.8, 0.2]]))\n",
        "    label = Variable(np.array([1, 0]))\n",
        "    k = Variable(nll_forward(scores, label))\n",
        "    nll_backward(scores, label, 1)\n",
        "    print(\"\\nNegative Log Likelihood (NLL):\")\n",
        "    print(\"Forward pass result:\", k.data)\n",
        "    print(\"Backward pass gradient (scores):\", scores.grad)\n",
        "\n",
        "# Run the test\n",
        "test_operations()"
      ],
      "metadata": {
        "colab": {
          "base_uri": "https://localhost:8080/"
        },
        "id": "ONjkbpM6OUkD",
        "outputId": "1abd4c8a-bf59-48c7-8f54-5fda15f133f7"
      },
      "execution_count": 8,
      "outputs": [
        {
          "output_type": "stream",
          "name": "stdout",
          "text": [
            "Addition:\n",
            "Forward pass result: [[3 4]\n",
            " [6 7]]\n",
            "Backward pass gradient (a): 1\n",
            "Backward pass gradient (b): 1\n",
            "\n",
            "Subtraction:\n",
            "Forward pass result: [[1 2]\n",
            " [2 3]]\n",
            "Backward pass gradient (a): 2\n",
            "Backward pass gradient (b): 0\n",
            "\n",
            "Multiplication:\n",
            "Forward pass result: [[ 2  3]\n",
            " [ 8 10]]\n",
            "Backward pass gradient (a): [[3 3]\n",
            " [4 4]]\n",
            "Backward pass gradient (b): [[2 3]\n",
            " [4 5]]\n",
            "\n",
            "Matrix Multiplication:\n",
            "Forward pass result: [[ 8  8]\n",
            " [14 14]]\n",
            "Backward pass gradient (a): [[5 7]\n",
            " [6 8]]\n",
            "Backward pass gradient (b): [[ 8  9]\n",
            " [12 13]]\n",
            "\n",
            "ReLU:\n",
            "Forward pass result: [[2 3]\n",
            " [4 5]]\n",
            "Backward pass gradient (a): [[6 8]\n",
            " [7 9]]\n",
            "\n",
            "Sigmoid:\n",
            "Forward pass result: [[0.88079708 0.95257413]\n",
            " [0.98201379 0.99330715]]\n",
            "Backward pass gradient (a): [[  4   2]\n",
            " [ -5 -11]]\n",
            "\n",
            "Log:\n",
            "Forward pass result: [[0.69314718 1.09861229]\n",
            " [1.38629436 1.60943791]]\n",
            "Backward pass gradient (a): [[  4   2]\n",
            " [ -5 -11]]\n",
            "\n",
            "Negative Log Likelihood (NLL):\n",
            "Forward pass result: [0.37110067 0.43748795]\n",
            "Backward pass gradient (scores): [[ 0.31002552 -0.31002552]\n",
            " [-0.35434369  0.35434369]]\n"
          ]
        }
      ]
    },
    {
      "cell_type": "code",
      "source": [
        "import matplotlib.pyplot as plt\n",
        "import networkx as nx\n",
        "import numpy as np\n",
        "from networkx.drawing.nx_agraph import graphviz_layout\n",
        "\n",
        "from operations import *\n",
        "\n",
        "class Variable:\n",
        "    def __init__(self, data, name='', _children=(), _op=''):\n",
        "        self.data = data\n",
        "        self.grad = 0\n",
        "        self._backward = lambda: None\n",
        "        self._prev = set(_children)\n",
        "        self._op = _op\n",
        "        self._name = name\n",
        "\n",
        "    def zero_grad(self):\n",
        "        self.grad = 0\n",
        "\n",
        "    def _generic_unop(self, forward, backward, op):\n",
        "        out = Variable(forward(self), _children=(self,), _op=op)\n",
        "\n",
        "        def _backward():\n",
        "            backward(self, out.grad)\n",
        "\n",
        "        out._backward = _backward\n",
        "\n",
        "        return out\n",
        "\n",
        "    def _generic_binop(self, other, forward, backward, op):\n",
        "        other = other if isinstance(other, Variable) else Variable(other)\n",
        "        out = Variable(forward(self, other), _children=(self, other), _op=op)\n",
        "\n",
        "        def _backward():\n",
        "            backward(self, other, out.grad)\n",
        "\n",
        "        out._backward = _backward\n",
        "\n",
        "        return out\n",
        "\n",
        "    def __add__(self, other):\n",
        "        return self._generic_binop(other, add_forward, add_backward, '+')\n",
        "\n",
        "    def __sub__(self, other):\n",
        "        return self._generic_binop(other, sub_forward, sub_backward, '-')\n",
        "\n",
        "    def __mul__(self, other):\n",
        "        return self._generic_binop(other, mul_forward, mul_backward, '*')\n",
        "\n",
        "    def __truediv__(self, other):\n",
        "        return self._generic_binop(other, div_forward, div_backward, '/')\n",
        "\n",
        "    def __matmul__(self, other):\n",
        "        return self._generic_binop(other, matmul_forward, matmul_backward, '@')\n",
        "\n",
        "    def __neg__(self):\n",
        "        return self * -1\n",
        "\n",
        "    def relu(self):\n",
        "        return self._generic_unop(relu_forward, relu_backward, 'ReLU')\n",
        "\n",
        "    def sigmoid(self):\n",
        "        return self._generic_unop(sigmoid_forward, sigmoid_backward, 'σ')\n",
        "\n",
        "    def log(self):\n",
        "        return self._generic_unop(log_forward, log_backward, 'log')\n",
        "\n",
        "    def nll(self, other):\n",
        "        return self._generic_binop(other, nll_forward, nll_backward, 'NLL')\n",
        "\n",
        "    def backward(self, _initial_grad=None):\n",
        "        topo = []\n",
        "        visited = set()\n",
        "\n",
        "        def build_topo(v):\n",
        "            if v not in visited:\n",
        "                visited.add(v)\n",
        "                for child in v._prev:\n",
        "                    build_topo(child)\n",
        "                topo.append(v)\n",
        "\n",
        "        build_topo(self)\n",
        "\n",
        "        if _initial_grad is None:\n",
        "            _initial_grad = np.array([1])\n",
        "\n",
        "        self.grad = _initial_grad\n",
        "        for v in reversed(topo):\n",
        "            v._backward()\n",
        "\n",
        "    def __repr__(self):\n",
        "        return f'Value({(\"name=\" + self._name + \" \") if self._name != \"\" else \"\"}data={self.data}, grad={self.grad})'\n",
        "\n",
        "    def show(self):\n",
        "        graph = nx.DiGraph()\n",
        "        labels = dict()\n",
        "        seen = set()\n",
        "\n",
        "        def size_to_str(size):\n",
        "            return '(' + ', '.join(['%d' % v for v in size]) + ')'\n",
        "\n",
        "        def add_nodes(var, parent=None):\n",
        "            if var in seen:\n",
        "                return\n",
        "            var_id = str(id(var))\n",
        "            graph.add_node(var_id)\n",
        "            has_shape = hasattr(var.data, 'shape')\n",
        "            labels[var_id] = f'{var._name if var._name != \"\" else \"Var\"}\\n' + (\n",
        "                size_to_str(var.data.shape) if has_shape else '')\n",
        "            if parent is not None:\n",
        "                graph.add_edge(parent, var_id)\n",
        "            new_parent = var_id\n",
        "\n",
        "            is_op = var._op != ''\n",
        "            if is_op:\n",
        "                op_id = var_id + '_op_' + var._op\n",
        "                graph.add_node(op_id)\n",
        "                labels[op_id] = var._op\n",
        "                graph.add_edge(var_id, op_id)\n",
        "                new_parent = op_id\n",
        "            seen.add(var)\n",
        "            for c in var._prev:\n",
        "                add_nodes(c, new_parent)\n",
        "\n",
        "        add_nodes(self)\n",
        "\n",
        "        plt.figure(figsize=(10, 15))\n",
        "        pos = graphviz_layout(graph, prog=\"dot\")\n",
        "        nx.draw(graph, pos=pos, labels=labels, with_labels=True, node_size=1e3, node_color='lightblue', node_shape='s')\n",
        "        plt.show()\n"
      ],
      "metadata": {
        "id": "ahiddsmDOcH7"
      },
      "execution_count": 9,
      "outputs": []
    },
    {
      "cell_type": "code",
      "source": [],
      "metadata": {
        "id": "IIRwg4OaWwRB"
      },
      "execution_count": null,
      "outputs": []
    },
    {
      "cell_type": "code",
      "source": [
        "%load test_scratch_grad.py"
      ],
      "metadata": {
        "id": "Y6evP2AhUM0b"
      },
      "execution_count": 25,
      "outputs": []
    },
    {
      "cell_type": "code",
      "source": [
        "import numpy as np\n",
        "\n",
        "from scratch_grad import Variable\n",
        "\n",
        "class NeuralNetwork:\n",
        "    def __init__(self):\n",
        "        # Define network parameters\n",
        "        self.W1 = Variable(np.array([[1.0, -1.0, -2.0], [-0.6, 0.2, -0.4]]), name='W1')\n",
        "        self.b1 = Variable(np.array([0.5, 2.8]), name='b1')\n",
        "\n",
        "        self.W2 = Variable(np.array([[0.3, 0.8], [-1.5, -0.8]]), name='W2')\n",
        "        self.b2 = Variable(np.array([-0.1, 0.4]), name='b2')\n",
        "\n",
        "        self.W3 = Variable(np.array([[-0.5, 1.5]]), name='W3')\n",
        "        self.b3 = Variable(np.array([0.5]), name='b3')\n",
        "\n",
        "    def forward(self, x):\n",
        "        # Forward pass\n",
        "        # Assuming a1, h1, a2, h2, a3, h3 are instances of the Variable class\n",
        "        a1 =self.W1 @ x + self.b1\n",
        "        h1 = a1.relu()\n",
        "\n",
        "        a2 = self.W2 @ h1 + self.b2\n",
        "        h2 = a2.relu()\n",
        "\n",
        "        a3 = self.W3 @ h2 + self.b3\n",
        "        h3 = a3.sigmoid()\n",
        "\n",
        "\n",
        "\n",
        "\n",
        "        return h3\n",
        "\n",
        ""
      ],
      "metadata": {
        "id": "3ew90qMGPIWk"
      },
      "execution_count": 68,
      "outputs": []
    },
    {
      "cell_type": "code",
      "source": [
        "\n",
        "\n",
        "x = Variable(np.array([[2], [1], [1]]))\n",
        "\n",
        "neural_network = NeuralNetwork()\n",
        "output = neural_netrow.forward(x)\n",
        "print(output)\n"
      ],
      "metadata": {
        "colab": {
          "base_uri": "https://localhost:8080/"
        },
        "id": "9LD4NY7gXnxb",
        "outputId": "58e0155a-697f-404c-a595-e5f086c5e4de"
      },
      "execution_count": 70,
      "outputs": [
        {
          "output_type": "stream",
          "name": "stdout",
          "text": [
            "Value(data=[[-0.5  1.8]\n",
            " [-0.9  1.4]], grad=0)\n",
            "Value(data=[[0.62245933 0.37051689]], grad=0)\n"
          ]
        }
      ]
    }
  ]
}